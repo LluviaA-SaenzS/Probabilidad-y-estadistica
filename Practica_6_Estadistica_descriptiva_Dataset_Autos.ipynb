{
  "cells": [
    {
      "cell_type": "markdown",
      "metadata": {
        "id": "view-in-github",
        "colab_type": "text"
      },
      "source": [
        "<a href=\"https://colab.research.google.com/github/LluviaA-SaenzS/Probabilidad-y-estadistica/blob/main/Practica_6_Estadistica_descriptiva_Dataset_Autos.ipynb\" target=\"_parent\"><img src=\"https://colab.research.google.com/assets/colab-badge.svg\" alt=\"Open In Colab\"/></a>"
      ]
    },
    {
      "cell_type": "markdown",
      "id": "162fee16",
      "metadata": {
        "id": "162fee16"
      },
      "source": [
        "# Probabilidad y Estadística\n",
        "## Facilitador: José Gabriel Rodríguez Rivas\n",
        "## Alumna: Lluvia A. Saenz S."
      ]
    },
    {
      "cell_type": "code",
      "execution_count": null,
      "id": "45eb3c07",
      "metadata": {
        "id": "45eb3c07"
      },
      "outputs": [],
      "source": [
        "import pandas as pd\n",
        "import matplotlib as plt\n",
        "import seaborn as sns\n",
        "import math\n",
        "from matplotlib import pyplot"
      ]
    },
    {
      "cell_type": "code",
      "execution_count": null,
      "id": "8cc9905d",
      "metadata": {
        "id": "8cc9905d"
      },
      "outputs": [],
      "source": [
        "auto = pd.read_csv('autoss.csv')"
      ]
    },
    {
      "cell_type": "code",
      "execution_count": null,
      "id": "274de3e9",
      "metadata": {
        "id": "274de3e9",
        "outputId": "7ae0fa78-4d3d-4958-a4a8-0284286692d8"
      },
      "outputs": [
        {
          "data": {
            "text/html": [
              "<div>\n",
              "<style scoped>\n",
              "    .dataframe tbody tr th:only-of-type {\n",
              "        vertical-align: middle;\n",
              "    }\n",
              "\n",
              "    .dataframe tbody tr th {\n",
              "        vertical-align: top;\n",
              "    }\n",
              "\n",
              "    .dataframe thead th {\n",
              "        text-align: right;\n",
              "    }\n",
              "</style>\n",
              "<table border=\"1\" class=\"dataframe\">\n",
              "  <thead>\n",
              "    <tr style=\"text-align: right;\">\n",
              "      <th></th>\n",
              "      <th>symboling</th>\n",
              "      <th>normalized-losses</th>\n",
              "      <th>make</th>\n",
              "      <th>fuel-type</th>\n",
              "      <th>aspiration</th>\n",
              "      <th>num-of-doors</th>\n",
              "      <th>body-style</th>\n",
              "      <th>drive-wheels</th>\n",
              "      <th>engine-location</th>\n",
              "      <th>wheel-base</th>\n",
              "      <th>...</th>\n",
              "      <th>engine-size</th>\n",
              "      <th>fuel-system</th>\n",
              "      <th>bore</th>\n",
              "      <th>stroke</th>\n",
              "      <th>compression-ratio</th>\n",
              "      <th>horsepower</th>\n",
              "      <th>peak-rpm</th>\n",
              "      <th>city-mpg</th>\n",
              "      <th>highway-mpg</th>\n",
              "      <th>price</th>\n",
              "    </tr>\n",
              "  </thead>\n",
              "  <tbody>\n",
              "    <tr>\n",
              "      <th>0</th>\n",
              "      <td>3</td>\n",
              "      <td>122.0</td>\n",
              "      <td>alfa-romero</td>\n",
              "      <td>gas</td>\n",
              "      <td>std</td>\n",
              "      <td>two</td>\n",
              "      <td>convertible</td>\n",
              "      <td>rwd</td>\n",
              "      <td>front</td>\n",
              "      <td>88.6</td>\n",
              "      <td>...</td>\n",
              "      <td>130</td>\n",
              "      <td>mpfi</td>\n",
              "      <td>3.47</td>\n",
              "      <td>2.68</td>\n",
              "      <td>9.0</td>\n",
              "      <td>111.0</td>\n",
              "      <td>5000.0</td>\n",
              "      <td>21</td>\n",
              "      <td>27</td>\n",
              "      <td>13495.0</td>\n",
              "    </tr>\n",
              "    <tr>\n",
              "      <th>1</th>\n",
              "      <td>3</td>\n",
              "      <td>122.0</td>\n",
              "      <td>alfa-romero</td>\n",
              "      <td>gas</td>\n",
              "      <td>std</td>\n",
              "      <td>two</td>\n",
              "      <td>convertible</td>\n",
              "      <td>rwd</td>\n",
              "      <td>front</td>\n",
              "      <td>88.6</td>\n",
              "      <td>...</td>\n",
              "      <td>130</td>\n",
              "      <td>mpfi</td>\n",
              "      <td>3.47</td>\n",
              "      <td>2.68</td>\n",
              "      <td>9.0</td>\n",
              "      <td>111.0</td>\n",
              "      <td>5000.0</td>\n",
              "      <td>21</td>\n",
              "      <td>27</td>\n",
              "      <td>16500.0</td>\n",
              "    </tr>\n",
              "    <tr>\n",
              "      <th>2</th>\n",
              "      <td>1</td>\n",
              "      <td>122.0</td>\n",
              "      <td>alfa-romero</td>\n",
              "      <td>gas</td>\n",
              "      <td>std</td>\n",
              "      <td>two</td>\n",
              "      <td>hatchback</td>\n",
              "      <td>rwd</td>\n",
              "      <td>front</td>\n",
              "      <td>94.5</td>\n",
              "      <td>...</td>\n",
              "      <td>152</td>\n",
              "      <td>mpfi</td>\n",
              "      <td>2.68</td>\n",
              "      <td>3.47</td>\n",
              "      <td>9.0</td>\n",
              "      <td>154.0</td>\n",
              "      <td>5000.0</td>\n",
              "      <td>19</td>\n",
              "      <td>26</td>\n",
              "      <td>16500.0</td>\n",
              "    </tr>\n",
              "    <tr>\n",
              "      <th>3</th>\n",
              "      <td>2</td>\n",
              "      <td>164.0</td>\n",
              "      <td>audi</td>\n",
              "      <td>gas</td>\n",
              "      <td>std</td>\n",
              "      <td>four</td>\n",
              "      <td>sedan</td>\n",
              "      <td>fwd</td>\n",
              "      <td>front</td>\n",
              "      <td>99.8</td>\n",
              "      <td>...</td>\n",
              "      <td>109</td>\n",
              "      <td>mpfi</td>\n",
              "      <td>3.19</td>\n",
              "      <td>3.40</td>\n",
              "      <td>10.0</td>\n",
              "      <td>102.0</td>\n",
              "      <td>5500.0</td>\n",
              "      <td>24</td>\n",
              "      <td>30</td>\n",
              "      <td>13950.0</td>\n",
              "    </tr>\n",
              "    <tr>\n",
              "      <th>4</th>\n",
              "      <td>2</td>\n",
              "      <td>164.0</td>\n",
              "      <td>audi</td>\n",
              "      <td>gas</td>\n",
              "      <td>std</td>\n",
              "      <td>four</td>\n",
              "      <td>sedan</td>\n",
              "      <td>4wd</td>\n",
              "      <td>front</td>\n",
              "      <td>99.4</td>\n",
              "      <td>...</td>\n",
              "      <td>136</td>\n",
              "      <td>mpfi</td>\n",
              "      <td>3.19</td>\n",
              "      <td>3.40</td>\n",
              "      <td>8.0</td>\n",
              "      <td>115.0</td>\n",
              "      <td>5500.0</td>\n",
              "      <td>18</td>\n",
              "      <td>22</td>\n",
              "      <td>17450.0</td>\n",
              "    </tr>\n",
              "    <tr>\n",
              "      <th>...</th>\n",
              "      <td>...</td>\n",
              "      <td>...</td>\n",
              "      <td>...</td>\n",
              "      <td>...</td>\n",
              "      <td>...</td>\n",
              "      <td>...</td>\n",
              "      <td>...</td>\n",
              "      <td>...</td>\n",
              "      <td>...</td>\n",
              "      <td>...</td>\n",
              "      <td>...</td>\n",
              "      <td>...</td>\n",
              "      <td>...</td>\n",
              "      <td>...</td>\n",
              "      <td>...</td>\n",
              "      <td>...</td>\n",
              "      <td>...</td>\n",
              "      <td>...</td>\n",
              "      <td>...</td>\n",
              "      <td>...</td>\n",
              "      <td>...</td>\n",
              "    </tr>\n",
              "    <tr>\n",
              "      <th>200</th>\n",
              "      <td>-1</td>\n",
              "      <td>95.0</td>\n",
              "      <td>volvo</td>\n",
              "      <td>gas</td>\n",
              "      <td>std</td>\n",
              "      <td>four</td>\n",
              "      <td>sedan</td>\n",
              "      <td>rwd</td>\n",
              "      <td>front</td>\n",
              "      <td>109.1</td>\n",
              "      <td>...</td>\n",
              "      <td>141</td>\n",
              "      <td>mpfi</td>\n",
              "      <td>3.78</td>\n",
              "      <td>3.15</td>\n",
              "      <td>9.5</td>\n",
              "      <td>114.0</td>\n",
              "      <td>5400.0</td>\n",
              "      <td>23</td>\n",
              "      <td>28</td>\n",
              "      <td>16845.0</td>\n",
              "    </tr>\n",
              "    <tr>\n",
              "      <th>201</th>\n",
              "      <td>-1</td>\n",
              "      <td>95.0</td>\n",
              "      <td>volvo</td>\n",
              "      <td>gas</td>\n",
              "      <td>turbo</td>\n",
              "      <td>four</td>\n",
              "      <td>sedan</td>\n",
              "      <td>rwd</td>\n",
              "      <td>front</td>\n",
              "      <td>109.1</td>\n",
              "      <td>...</td>\n",
              "      <td>141</td>\n",
              "      <td>mpfi</td>\n",
              "      <td>3.78</td>\n",
              "      <td>3.15</td>\n",
              "      <td>8.7</td>\n",
              "      <td>160.0</td>\n",
              "      <td>5300.0</td>\n",
              "      <td>19</td>\n",
              "      <td>25</td>\n",
              "      <td>19045.0</td>\n",
              "    </tr>\n",
              "    <tr>\n",
              "      <th>202</th>\n",
              "      <td>-1</td>\n",
              "      <td>95.0</td>\n",
              "      <td>volvo</td>\n",
              "      <td>gas</td>\n",
              "      <td>std</td>\n",
              "      <td>four</td>\n",
              "      <td>sedan</td>\n",
              "      <td>rwd</td>\n",
              "      <td>front</td>\n",
              "      <td>109.1</td>\n",
              "      <td>...</td>\n",
              "      <td>173</td>\n",
              "      <td>mpfi</td>\n",
              "      <td>3.58</td>\n",
              "      <td>2.87</td>\n",
              "      <td>8.8</td>\n",
              "      <td>134.0</td>\n",
              "      <td>5500.0</td>\n",
              "      <td>18</td>\n",
              "      <td>23</td>\n",
              "      <td>21485.0</td>\n",
              "    </tr>\n",
              "    <tr>\n",
              "      <th>203</th>\n",
              "      <td>-1</td>\n",
              "      <td>95.0</td>\n",
              "      <td>volvo</td>\n",
              "      <td>diesel</td>\n",
              "      <td>turbo</td>\n",
              "      <td>four</td>\n",
              "      <td>sedan</td>\n",
              "      <td>rwd</td>\n",
              "      <td>front</td>\n",
              "      <td>109.1</td>\n",
              "      <td>...</td>\n",
              "      <td>145</td>\n",
              "      <td>idi</td>\n",
              "      <td>3.01</td>\n",
              "      <td>3.40</td>\n",
              "      <td>23.0</td>\n",
              "      <td>106.0</td>\n",
              "      <td>4800.0</td>\n",
              "      <td>26</td>\n",
              "      <td>27</td>\n",
              "      <td>22470.0</td>\n",
              "    </tr>\n",
              "    <tr>\n",
              "      <th>204</th>\n",
              "      <td>-1</td>\n",
              "      <td>95.0</td>\n",
              "      <td>volvo</td>\n",
              "      <td>gas</td>\n",
              "      <td>turbo</td>\n",
              "      <td>four</td>\n",
              "      <td>sedan</td>\n",
              "      <td>rwd</td>\n",
              "      <td>front</td>\n",
              "      <td>109.1</td>\n",
              "      <td>...</td>\n",
              "      <td>141</td>\n",
              "      <td>mpfi</td>\n",
              "      <td>3.78</td>\n",
              "      <td>3.15</td>\n",
              "      <td>9.5</td>\n",
              "      <td>114.0</td>\n",
              "      <td>5400.0</td>\n",
              "      <td>19</td>\n",
              "      <td>25</td>\n",
              "      <td>22625.0</td>\n",
              "    </tr>\n",
              "  </tbody>\n",
              "</table>\n",
              "<p>205 rows × 26 columns</p>\n",
              "</div>"
            ],
            "text/plain": [
              "     symboling  normalized-losses         make fuel-type aspiration  \\\n",
              "0            3              122.0  alfa-romero       gas        std   \n",
              "1            3              122.0  alfa-romero       gas        std   \n",
              "2            1              122.0  alfa-romero       gas        std   \n",
              "3            2              164.0         audi       gas        std   \n",
              "4            2              164.0         audi       gas        std   \n",
              "..         ...                ...          ...       ...        ...   \n",
              "200         -1               95.0        volvo       gas        std   \n",
              "201         -1               95.0        volvo       gas      turbo   \n",
              "202         -1               95.0        volvo       gas        std   \n",
              "203         -1               95.0        volvo    diesel      turbo   \n",
              "204         -1               95.0        volvo       gas      turbo   \n",
              "\n",
              "    num-of-doors   body-style drive-wheels engine-location  wheel-base  ...  \\\n",
              "0            two  convertible          rwd           front        88.6  ...   \n",
              "1            two  convertible          rwd           front        88.6  ...   \n",
              "2            two    hatchback          rwd           front        94.5  ...   \n",
              "3           four        sedan          fwd           front        99.8  ...   \n",
              "4           four        sedan          4wd           front        99.4  ...   \n",
              "..           ...          ...          ...             ...         ...  ...   \n",
              "200         four        sedan          rwd           front       109.1  ...   \n",
              "201         four        sedan          rwd           front       109.1  ...   \n",
              "202         four        sedan          rwd           front       109.1  ...   \n",
              "203         four        sedan          rwd           front       109.1  ...   \n",
              "204         four        sedan          rwd           front       109.1  ...   \n",
              "\n",
              "     engine-size  fuel-system  bore  stroke compression-ratio horsepower  \\\n",
              "0            130         mpfi  3.47    2.68               9.0      111.0   \n",
              "1            130         mpfi  3.47    2.68               9.0      111.0   \n",
              "2            152         mpfi  2.68    3.47               9.0      154.0   \n",
              "3            109         mpfi  3.19    3.40              10.0      102.0   \n",
              "4            136         mpfi  3.19    3.40               8.0      115.0   \n",
              "..           ...          ...   ...     ...               ...        ...   \n",
              "200          141         mpfi  3.78    3.15               9.5      114.0   \n",
              "201          141         mpfi  3.78    3.15               8.7      160.0   \n",
              "202          173         mpfi  3.58    2.87               8.8      134.0   \n",
              "203          145          idi  3.01    3.40              23.0      106.0   \n",
              "204          141         mpfi  3.78    3.15               9.5      114.0   \n",
              "\n",
              "     peak-rpm city-mpg  highway-mpg    price  \n",
              "0      5000.0       21           27  13495.0  \n",
              "1      5000.0       21           27  16500.0  \n",
              "2      5000.0       19           26  16500.0  \n",
              "3      5500.0       24           30  13950.0  \n",
              "4      5500.0       18           22  17450.0  \n",
              "..        ...      ...          ...      ...  \n",
              "200    5400.0       23           28  16845.0  \n",
              "201    5300.0       19           25  19045.0  \n",
              "202    5500.0       18           23  21485.0  \n",
              "203    4800.0       26           27  22470.0  \n",
              "204    5400.0       19           25  22625.0  \n",
              "\n",
              "[205 rows x 26 columns]"
            ]
          },
          "execution_count": 9,
          "metadata": {},
          "output_type": "execute_result"
        }
      ],
      "source": [
        "auto"
      ]
    },
    {
      "cell_type": "markdown",
      "id": "ac869fe4",
      "metadata": {
        "id": "ac869fe4"
      },
      "source": [
        "## (1) Estadisticas descriptivas básicas y medidas de tendencia central"
      ]
    },
    {
      "cell_type": "code",
      "execution_count": null,
      "id": "dcde1ffa",
      "metadata": {
        "id": "dcde1ffa",
        "outputId": "7714b538-7d5d-4f5b-a89e-7bda27af52c6"
      },
      "outputs": [
        {
          "data": {
            "text/plain": [
              "5118.0"
            ]
          },
          "execution_count": 10,
          "metadata": {},
          "output_type": "execute_result"
        }
      ],
      "source": [
        "# Determinar el valor minimo de precios\n",
        "auto.price.min()"
      ]
    },
    {
      "cell_type": "code",
      "execution_count": null,
      "id": "c4a9ce71",
      "metadata": {
        "id": "c4a9ce71",
        "outputId": "94f42d69-6850-4532-c948-ccf134a8ffbc"
      },
      "outputs": [
        {
          "data": {
            "text/plain": [
              "45400.0"
            ]
          },
          "execution_count": 11,
          "metadata": {},
          "output_type": "execute_result"
        }
      ],
      "source": [
        "# Determinar el valor maximo de precios\n",
        "auto.price.max()"
      ]
    },
    {
      "cell_type": "code",
      "execution_count": null,
      "id": "4a2572ab",
      "metadata": {
        "id": "4a2572ab",
        "outputId": "02188e88-8c84-467f-c956-1965274ec441"
      },
      "outputs": [
        {
          "data": {
            "text/plain": [
              "0      5572.0\n",
              "1      6229.0\n",
              "2      6692.0\n",
              "3      7295.0\n",
              "4      7609.0\n",
              "5      7775.0\n",
              "6      7898.0\n",
              "7      7957.0\n",
              "8      8495.0\n",
              "9      8845.0\n",
              "10     8921.0\n",
              "11     9279.0\n",
              "12    13499.0\n",
              "13    16500.0\n",
              "14    18150.0\n",
              "Name: price, dtype: float64"
            ]
          },
          "execution_count": 67,
          "metadata": {},
          "output_type": "execute_result"
        }
      ],
      "source": [
        "# Determinar el valor de la moda de precios\n",
        "auto.price.mode()"
      ]
    },
    {
      "cell_type": "code",
      "execution_count": null,
      "id": "93acf3f5",
      "metadata": {
        "id": "93acf3f5",
        "outputId": "29be230d-8559-43ad-b756-d8e0be0a0335"
      },
      "outputs": [
        {
          "data": {
            "text/plain": [
              "13207.129353233831"
            ]
          },
          "execution_count": 13,
          "metadata": {},
          "output_type": "execute_result"
        }
      ],
      "source": [
        "# Determinar el valor de la media de precios\n",
        "auto.price.mean()"
      ]
    },
    {
      "cell_type": "code",
      "execution_count": null,
      "id": "761c47a1",
      "metadata": {
        "id": "761c47a1",
        "outputId": "924f9d17-839e-4ae9-fe6e-b107ca443db3"
      },
      "outputs": [
        {
          "data": {
            "text/plain": [
              "10295.0"
            ]
          },
          "execution_count": 14,
          "metadata": {},
          "output_type": "execute_result"
        }
      ],
      "source": [
        "# Determinar el valor de la mediana de precios\n",
        "auto.price.median()"
      ]
    },
    {
      "cell_type": "code",
      "execution_count": null,
      "id": "02b8ec48",
      "metadata": {
        "id": "02b8ec48",
        "outputId": "185385eb-d19a-44e6-b8da-8a1f70e7ae41"
      },
      "outputs": [
        {
          "name": "stdout",
          "output_type": "stream",
          "text": [
            "7947.066341939271\n"
          ]
        }
      ],
      "source": [
        "# Determinar el valor de la desviacion estandar de precios\n",
        "desviacion_estandar = auto['price'].std()\n",
        "print (desviacion_estandar)"
      ]
    },
    {
      "cell_type": "code",
      "execution_count": null,
      "id": "33241614",
      "metadata": {
        "id": "33241614",
        "outputId": "5e3c9cf2-fc86-45b7-dfd2-bea65a9dde5e"
      },
      "outputs": [
        {
          "data": {
            "text/html": [
              "<div>\n",
              "<style scoped>\n",
              "    .dataframe tbody tr th:only-of-type {\n",
              "        vertical-align: middle;\n",
              "    }\n",
              "\n",
              "    .dataframe tbody tr th {\n",
              "        vertical-align: top;\n",
              "    }\n",
              "\n",
              "    .dataframe thead th {\n",
              "        text-align: right;\n",
              "    }\n",
              "</style>\n",
              "<table border=\"1\" class=\"dataframe\">\n",
              "  <thead>\n",
              "    <tr style=\"text-align: right;\">\n",
              "      <th></th>\n",
              "      <th>symboling</th>\n",
              "      <th>normalized-losses</th>\n",
              "      <th>wheel-base</th>\n",
              "      <th>length</th>\n",
              "      <th>width</th>\n",
              "      <th>height</th>\n",
              "      <th>curb-weight</th>\n",
              "      <th>engine-size</th>\n",
              "      <th>bore</th>\n",
              "      <th>stroke</th>\n",
              "      <th>compression-ratio</th>\n",
              "      <th>horsepower</th>\n",
              "      <th>peak-rpm</th>\n",
              "      <th>city-mpg</th>\n",
              "      <th>highway-mpg</th>\n",
              "      <th>price</th>\n",
              "    </tr>\n",
              "  </thead>\n",
              "  <tbody>\n",
              "    <tr>\n",
              "      <th>count</th>\n",
              "      <td>205.000000</td>\n",
              "      <td>205.000000</td>\n",
              "      <td>205.000000</td>\n",
              "      <td>205.000000</td>\n",
              "      <td>205.000000</td>\n",
              "      <td>205.000000</td>\n",
              "      <td>205.000000</td>\n",
              "      <td>205.000000</td>\n",
              "      <td>201.000000</td>\n",
              "      <td>201.000000</td>\n",
              "      <td>205.000000</td>\n",
              "      <td>203.000000</td>\n",
              "      <td>203.000000</td>\n",
              "      <td>205.000000</td>\n",
              "      <td>205.000000</td>\n",
              "      <td>201.000000</td>\n",
              "    </tr>\n",
              "    <tr>\n",
              "      <th>mean</th>\n",
              "      <td>0.834146</td>\n",
              "      <td>122.000000</td>\n",
              "      <td>98.756585</td>\n",
              "      <td>174.049268</td>\n",
              "      <td>65.907805</td>\n",
              "      <td>53.724878</td>\n",
              "      <td>2555.565854</td>\n",
              "      <td>126.907317</td>\n",
              "      <td>3.329751</td>\n",
              "      <td>3.255423</td>\n",
              "      <td>10.142537</td>\n",
              "      <td>104.256158</td>\n",
              "      <td>5125.369458</td>\n",
              "      <td>25.219512</td>\n",
              "      <td>30.751220</td>\n",
              "      <td>13207.129353</td>\n",
              "    </tr>\n",
              "    <tr>\n",
              "      <th>std</th>\n",
              "      <td>1.245307</td>\n",
              "      <td>31.681008</td>\n",
              "      <td>6.021776</td>\n",
              "      <td>12.337289</td>\n",
              "      <td>2.145204</td>\n",
              "      <td>2.443522</td>\n",
              "      <td>520.680204</td>\n",
              "      <td>41.642693</td>\n",
              "      <td>0.273539</td>\n",
              "      <td>0.316717</td>\n",
              "      <td>3.972040</td>\n",
              "      <td>39.714369</td>\n",
              "      <td>479.334560</td>\n",
              "      <td>6.542142</td>\n",
              "      <td>6.886443</td>\n",
              "      <td>7947.066342</td>\n",
              "    </tr>\n",
              "    <tr>\n",
              "      <th>min</th>\n",
              "      <td>-2.000000</td>\n",
              "      <td>65.000000</td>\n",
              "      <td>86.600000</td>\n",
              "      <td>141.100000</td>\n",
              "      <td>60.300000</td>\n",
              "      <td>47.800000</td>\n",
              "      <td>1488.000000</td>\n",
              "      <td>61.000000</td>\n",
              "      <td>2.540000</td>\n",
              "      <td>2.070000</td>\n",
              "      <td>7.000000</td>\n",
              "      <td>48.000000</td>\n",
              "      <td>4150.000000</td>\n",
              "      <td>13.000000</td>\n",
              "      <td>16.000000</td>\n",
              "      <td>5118.000000</td>\n",
              "    </tr>\n",
              "    <tr>\n",
              "      <th>25%</th>\n",
              "      <td>0.000000</td>\n",
              "      <td>101.000000</td>\n",
              "      <td>94.500000</td>\n",
              "      <td>166.300000</td>\n",
              "      <td>64.100000</td>\n",
              "      <td>52.000000</td>\n",
              "      <td>2145.000000</td>\n",
              "      <td>97.000000</td>\n",
              "      <td>3.150000</td>\n",
              "      <td>3.110000</td>\n",
              "      <td>8.600000</td>\n",
              "      <td>70.000000</td>\n",
              "      <td>4800.000000</td>\n",
              "      <td>19.000000</td>\n",
              "      <td>25.000000</td>\n",
              "      <td>7775.000000</td>\n",
              "    </tr>\n",
              "    <tr>\n",
              "      <th>50%</th>\n",
              "      <td>1.000000</td>\n",
              "      <td>122.000000</td>\n",
              "      <td>97.000000</td>\n",
              "      <td>173.200000</td>\n",
              "      <td>65.500000</td>\n",
              "      <td>54.100000</td>\n",
              "      <td>2414.000000</td>\n",
              "      <td>120.000000</td>\n",
              "      <td>3.310000</td>\n",
              "      <td>3.290000</td>\n",
              "      <td>9.000000</td>\n",
              "      <td>95.000000</td>\n",
              "      <td>5200.000000</td>\n",
              "      <td>24.000000</td>\n",
              "      <td>30.000000</td>\n",
              "      <td>10295.000000</td>\n",
              "    </tr>\n",
              "    <tr>\n",
              "      <th>75%</th>\n",
              "      <td>2.000000</td>\n",
              "      <td>137.000000</td>\n",
              "      <td>102.400000</td>\n",
              "      <td>183.100000</td>\n",
              "      <td>66.900000</td>\n",
              "      <td>55.500000</td>\n",
              "      <td>2935.000000</td>\n",
              "      <td>141.000000</td>\n",
              "      <td>3.590000</td>\n",
              "      <td>3.410000</td>\n",
              "      <td>9.400000</td>\n",
              "      <td>116.000000</td>\n",
              "      <td>5500.000000</td>\n",
              "      <td>30.000000</td>\n",
              "      <td>34.000000</td>\n",
              "      <td>16500.000000</td>\n",
              "    </tr>\n",
              "    <tr>\n",
              "      <th>max</th>\n",
              "      <td>3.000000</td>\n",
              "      <td>256.000000</td>\n",
              "      <td>120.900000</td>\n",
              "      <td>208.100000</td>\n",
              "      <td>72.300000</td>\n",
              "      <td>59.800000</td>\n",
              "      <td>4066.000000</td>\n",
              "      <td>326.000000</td>\n",
              "      <td>3.940000</td>\n",
              "      <td>4.170000</td>\n",
              "      <td>23.000000</td>\n",
              "      <td>288.000000</td>\n",
              "      <td>6600.000000</td>\n",
              "      <td>49.000000</td>\n",
              "      <td>54.000000</td>\n",
              "      <td>45400.000000</td>\n",
              "    </tr>\n",
              "  </tbody>\n",
              "</table>\n",
              "</div>"
            ],
            "text/plain": [
              "        symboling  normalized-losses  wheel-base      length       width  \\\n",
              "count  205.000000         205.000000  205.000000  205.000000  205.000000   \n",
              "mean     0.834146         122.000000   98.756585  174.049268   65.907805   \n",
              "std      1.245307          31.681008    6.021776   12.337289    2.145204   \n",
              "min     -2.000000          65.000000   86.600000  141.100000   60.300000   \n",
              "25%      0.000000         101.000000   94.500000  166.300000   64.100000   \n",
              "50%      1.000000         122.000000   97.000000  173.200000   65.500000   \n",
              "75%      2.000000         137.000000  102.400000  183.100000   66.900000   \n",
              "max      3.000000         256.000000  120.900000  208.100000   72.300000   \n",
              "\n",
              "           height  curb-weight  engine-size        bore      stroke  \\\n",
              "count  205.000000   205.000000   205.000000  201.000000  201.000000   \n",
              "mean    53.724878  2555.565854   126.907317    3.329751    3.255423   \n",
              "std      2.443522   520.680204    41.642693    0.273539    0.316717   \n",
              "min     47.800000  1488.000000    61.000000    2.540000    2.070000   \n",
              "25%     52.000000  2145.000000    97.000000    3.150000    3.110000   \n",
              "50%     54.100000  2414.000000   120.000000    3.310000    3.290000   \n",
              "75%     55.500000  2935.000000   141.000000    3.590000    3.410000   \n",
              "max     59.800000  4066.000000   326.000000    3.940000    4.170000   \n",
              "\n",
              "       compression-ratio  horsepower     peak-rpm    city-mpg  highway-mpg  \\\n",
              "count         205.000000  203.000000   203.000000  205.000000   205.000000   \n",
              "mean           10.142537  104.256158  5125.369458   25.219512    30.751220   \n",
              "std             3.972040   39.714369   479.334560    6.542142     6.886443   \n",
              "min             7.000000   48.000000  4150.000000   13.000000    16.000000   \n",
              "25%             8.600000   70.000000  4800.000000   19.000000    25.000000   \n",
              "50%             9.000000   95.000000  5200.000000   24.000000    30.000000   \n",
              "75%             9.400000  116.000000  5500.000000   30.000000    34.000000   \n",
              "max            23.000000  288.000000  6600.000000   49.000000    54.000000   \n",
              "\n",
              "              price  \n",
              "count    201.000000  \n",
              "mean   13207.129353  \n",
              "std     7947.066342  \n",
              "min     5118.000000  \n",
              "25%     7775.000000  \n",
              "50%    10295.000000  \n",
              "75%    16500.000000  \n",
              "max    45400.000000  "
            ]
          },
          "execution_count": 22,
          "metadata": {},
          "output_type": "execute_result"
        }
      ],
      "source": [
        "# Determinar los estadisticos y cuartiles con la funcion describe()\n",
        "auto.describe()"
      ]
    },
    {
      "cell_type": "markdown",
      "id": "810eb5f1",
      "metadata": {
        "id": "810eb5f1"
      },
      "source": [
        "## (2) Realizar un Histograma de precios de los automoviles\n",
        "$\n",
        "k = 1+log2(N)\n",
        "$"
      ]
    },
    {
      "cell_type": "code",
      "execution_count": null,
      "id": "ded01870",
      "metadata": {
        "id": "ded01870",
        "outputId": "ffbef290-1fe9-43e7-e873-47c095d216d6"
      },
      "outputs": [
        {
          "name": "stdout",
          "output_type": "stream",
          "text": [
            "N vale=  205 \n",
            "K vale=  8\n"
          ]
        }
      ],
      "source": [
        "# Determinar mediante la regla de sturges\n",
        "#la cantidad optima de bins o separadores\n",
        "\n",
        "n = len(auto.price) # observaciones de los datos \"price\"\n",
        "k = int(1 + math.log2(n)) # numero de bins\n",
        "print(\"N vale= \",n,\"\\nK vale= \",k)"
      ]
    },
    {
      "cell_type": "code",
      "execution_count": null,
      "id": "f9770fa2",
      "metadata": {
        "id": "f9770fa2",
        "outputId": "24058fc3-fdd7-4264-c2c2-b547f4438bb1"
      },
      "outputs": [
        {
          "data": {
            "text/html": [
              "<div>\n",
              "<style scoped>\n",
              "    .dataframe tbody tr th:only-of-type {\n",
              "        vertical-align: middle;\n",
              "    }\n",
              "\n",
              "    .dataframe tbody tr th {\n",
              "        vertical-align: top;\n",
              "    }\n",
              "\n",
              "    .dataframe thead th {\n",
              "        text-align: right;\n",
              "    }\n",
              "</style>\n",
              "<table border=\"1\" class=\"dataframe\">\n",
              "  <thead>\n",
              "    <tr style=\"text-align: right;\">\n",
              "      <th></th>\n",
              "      <th>PRECIO</th>\n",
              "    </tr>\n",
              "  </thead>\n",
              "  <tbody>\n",
              "    <tr>\n",
              "      <th>0</th>\n",
              "      <td>13495.0</td>\n",
              "    </tr>\n",
              "    <tr>\n",
              "      <th>1</th>\n",
              "      <td>16500.0</td>\n",
              "    </tr>\n",
              "    <tr>\n",
              "      <th>2</th>\n",
              "      <td>16500.0</td>\n",
              "    </tr>\n",
              "    <tr>\n",
              "      <th>3</th>\n",
              "      <td>13950.0</td>\n",
              "    </tr>\n",
              "    <tr>\n",
              "      <th>4</th>\n",
              "      <td>17450.0</td>\n",
              "    </tr>\n",
              "    <tr>\n",
              "      <th>...</th>\n",
              "      <td>...</td>\n",
              "    </tr>\n",
              "    <tr>\n",
              "      <th>200</th>\n",
              "      <td>16845.0</td>\n",
              "    </tr>\n",
              "    <tr>\n",
              "      <th>201</th>\n",
              "      <td>19045.0</td>\n",
              "    </tr>\n",
              "    <tr>\n",
              "      <th>202</th>\n",
              "      <td>21485.0</td>\n",
              "    </tr>\n",
              "    <tr>\n",
              "      <th>203</th>\n",
              "      <td>22470.0</td>\n",
              "    </tr>\n",
              "    <tr>\n",
              "      <th>204</th>\n",
              "      <td>22625.0</td>\n",
              "    </tr>\n",
              "  </tbody>\n",
              "</table>\n",
              "<p>205 rows × 1 columns</p>\n",
              "</div>"
            ],
            "text/plain": [
              "      PRECIO\n",
              "0    13495.0\n",
              "1    16500.0\n",
              "2    16500.0\n",
              "3    13950.0\n",
              "4    17450.0\n",
              "..       ...\n",
              "200  16845.0\n",
              "201  19045.0\n",
              "202  21485.0\n",
              "203  22470.0\n",
              "204  22625.0\n",
              "\n",
              "[205 rows x 1 columns]"
            ]
          },
          "execution_count": 30,
          "metadata": {},
          "output_type": "execute_result"
        }
      ],
      "source": [
        "precio_sturg = pd.DataFrame({ \"PRECIO\":auto.price})\n",
        "precio_sturg"
      ]
    },
    {
      "cell_type": "code",
      "execution_count": null,
      "id": "34088fef",
      "metadata": {
        "id": "34088fef",
        "outputId": "d78176af-7503-4f6d-e7d1-62fed61be6ac"
      },
      "outputs": [
        {
          "data": {
            "image/png": "[encoded data removed]",
            "text/plain": [
              "<Figure size 640x480 with 1 Axes>"
            ]
          },
          "metadata": {},
          "output_type": "display_data"
        }
      ],
      "source": [
        "plt.pyplot.hist(auto.price, bins=k, rwidth=0.85)\n",
        "plt.pyplot.title(\"Histograma de Precios por Regla de Sturges\")\n",
        "plt.pyplot.xlabel(\"PRECIO\")\n",
        "plt.pyplot.ylabel(\"FRECUENCIA\")\n",
        "plt.pyplot.grid(True)"
      ]
    },
    {
      "cell_type": "markdown",
      "id": "f0ca20f3",
      "metadata": {
        "id": "f0ca20f3"
      },
      "source": [
        "### Conclusiones\n",
        "----\n",
        "    La mediana registrada es de 10295.0  \n",
        "    La media registrada es de 13207  \n",
        "    La Desviacion Estandar es de 7947.06  \n",
        "    Hay multimoda, un total de 15 precios diferentes, que se repiten exactamente 2 veces  \n",
        "  \n",
        "    El precio minimo registrado es de 5118  \n",
        "    El 25% de los precios es igual o menor a 7775  \n",
        "    El 50% de los precios es menor o superior a 10295  \n",
        "    El 75% de los precios es igual o superior a 16500  \n",
        "    El precio maximo registrado es de 45400  \n",
        "  \n",
        "Hay 201 precios registrados de 205 filas  \n",
        "Entre los precios de 5000 a 10000 hay un aproximado de +95 precios diferentes\n",
        "\n",
        "---"
      ]
    },
    {
      "cell_type": "markdown",
      "id": "83c8d509",
      "metadata": {
        "id": "83c8d509"
      },
      "source": [
        "## (3) Realizar un diagrama de caja y bigotes que muestre la relacion estadistica entre la columna del precio del automovil (price) y tipo de vehiculo (body style)"
      ]
    },
    {
      "cell_type": "code",
      "execution_count": null,
      "id": "290dbcaa",
      "metadata": {
        "id": "290dbcaa",
        "outputId": "f7713878-ea73-4ad5-8bdd-c46829db730b"
      },
      "outputs": [
        {
          "data": {
            "text/plain": [
              "[Text(0.5, 1.0, 'Relacion Precio y Modelo')]"
            ]
          },
          "execution_count": 90,
          "metadata": {},
          "output_type": "execute_result"
        },
        {
          "data": {
            "image/png": "[encoded data removed]",
            "text/plain": [
              "<Figure size 640x480 with 1 Axes>"
            ]
          },
          "metadata": {},
          "output_type": "display_data"
        }
      ],
      "source": [
        "sns.boxplot(x='body-style', y='price', data=auto).set(title='Relacion Precio y Modelo')"
      ]
    },
    {
      "cell_type": "markdown",
      "id": "c8d22340",
      "metadata": {
        "id": "c8d22340"
      },
      "source": [
        "### Conclusiones\n",
        "----\n",
        "Aunque la mediana indica un valor central, la variabilidad en los datos es alta, lo que podría indicar una distribución sesgada o asimétrica con la presencia de valores atípicos\n",
        "----"
      ]
    },
    {
      "cell_type": "markdown",
      "id": "4813383b",
      "metadata": {
        "id": "4813383b"
      },
      "source": [
        "## (4) Realizar un diagrama de caja y bigotes que muestre la relacion estadistica entre la columna del precio del automovil (price) y tipo traccion ruedas (drive wheels)"
      ]
    },
    {
      "cell_type": "code",
      "execution_count": null,
      "id": "cc92662b",
      "metadata": {
        "id": "cc92662b",
        "outputId": "4a20b662-26aa-4f05-c357-11ca68103602"
      },
      "outputs": [
        {
          "data": {
            "text/plain": [
              "[Text(0.5, 1.0, 'Relacion Precio y Llantas')]"
            ]
          },
          "execution_count": 91,
          "metadata": {},
          "output_type": "execute_result"
        },
        {
          "data": {
            "image/png": "[encoded data removed]",
            "text/plain": [
              "<Figure size 640x480 with 1 Axes>"
            ]
          },
          "metadata": {},
          "output_type": "display_data"
        }
      ],
      "source": [
        "sns.boxplot(x='drive-wheels', y='price', data=auto).set(title='Relacion Precio y Llantas')"
      ]
    },
    {
      "cell_type": "markdown",
      "id": "15d8ecb8",
      "metadata": {
        "id": "15d8ecb8"
      },
      "source": [
        "### Conclusiones\n",
        "----\n",
        "En este diagrama se puede apreciar 3 tipos de ruedas, la llanta rwd es la que tiene mayores valores con respecto a las demas\n",
        "----"
      ]
    },
    {
      "cell_type": "markdown",
      "id": "cdb4e394",
      "metadata": {
        "id": "cdb4e394"
      },
      "source": [
        "## (5) Realizar un diagrama de caja y bigotes que muestre la relacion estadistica entre la columna del precio del automovil (price) y la ubicacion del motor (engine-location)"
      ]
    },
    {
      "cell_type": "code",
      "execution_count": null,
      "id": "0ebb6dbf",
      "metadata": {
        "id": "0ebb6dbf",
        "outputId": "32f84dee-a48b-414c-e655-e1689ff65466"
      },
      "outputs": [
        {
          "data": {
            "text/plain": [
              "[Text(0.5, 1.0, 'Relacion Precio y Ubicacion del Motor')]"
            ]
          },
          "execution_count": 92,
          "metadata": {},
          "output_type": "execute_result"
        },
        {
          "data": {
            "image/png": "[encoded data removed]",
            "text/plain": [
              "<Figure size 640x480 with 1 Axes>"
            ]
          },
          "metadata": {},
          "output_type": "display_data"
        }
      ],
      "source": [
        "sns.boxplot(x='engine-location', y='price', data=auto).set(title='Relacion Precio y Ubicacion del Motor')"
      ]
    },
    {
      "cell_type": "markdown",
      "id": "ef80bb85",
      "metadata": {
        "id": "ef80bb85"
      },
      "source": [
        "### Conclusiones\n",
        "----\n",
        "La ubicación de motor de clase front es la más variada, incluso excediendo lo estimado en precios\n",
        "----"
      ]
    },
    {
      "cell_type": "markdown",
      "id": "61c3ff7a",
      "metadata": {
        "id": "61c3ff7a"
      },
      "source": [
        "## Conclusiones Generales de la Practica\n",
        "----\n",
        "Basándonos en las medidas centrales, histogramas y diagrama de caja y bigotes obtenidos del conjunto de datos de autos, podemos sacar las siguientes conclusiones:\n",
        "\n",
        "1. Medidas centrales: Las medidas centrales como la media y la mediana nos proporcionaron una idea del valor típico de ciertas características de los autos, como el precio, la potencia del motor, o la eficiencia en el consumo de combustible.\n",
        "\n",
        "2. Histogramas: Los histogramas nos permitieron visualizar la distribución de estas características y observar si seguían una distribución normal o si había algún tipo de sesgo en los datos. Por ejemplo, podríamos haber observado que el precio de los autos estaba sesgado hacia la derecha, con la mayoría de los autos teniendo precios más bajos y solo unos pocos con precios muy altos.\n",
        "\n",
        "3. Diagrama de caja y bigotes: Al utilizar el diagrama de caja y bigotes, pudimos identificar de manera clara la presencia de valores atípicos en ciertas características de los autos, así como evaluar la dispersión de los datos y verificar si había alguna diferencia notable entre grupos de datos. Por ejemplo, podríamos haber observado que la potencia del motor variaba considerablemente entre diferentes marcas de autos.\n",
        "----"
      ]
    },
    {
      "cell_type": "code",
      "execution_count": null,
      "id": "6eb66bc3",
      "metadata": {
        "id": "6eb66bc3"
      },
      "outputs": [],
      "source": []
    }
  ],
  "metadata": {
    "kernelspec": {
      "display_name": "Python 3 (ipykernel)",
      "language": "python",
      "name": "python3"
    },
    "language_info": {
      "codemirror_mode": {
        "name": "ipython",
        "version": 3
      },
      "file_extension": ".py",
      "mimetype": "text/x-python",
      "name": "python",
      "nbconvert_exporter": "python",
      "pygments_lexer": "ipython3",
      "version": "3.11.5"
    },
    "colab": {
      "provenance": [],
      "include_colab_link": true
    }
  },
  "nbformat": 4,
  "nbformat_minor": 5
}