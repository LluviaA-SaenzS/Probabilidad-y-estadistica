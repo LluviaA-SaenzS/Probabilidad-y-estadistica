{
  "nbformat": 4,
  "nbformat_minor": 0,
  "metadata": {
    "colab": {
      "provenance": []
    },
    "kernelspec": {
      "name": "python3",
      "display_name": "Python 3"
    },
    "language_info": {
      "name": "python"
    }
  },
  "cells": [
    {
      "cell_type": "markdown",
      "source": [
        "# Probabilidad y Estadística\n",
        "## Facilitador: José Gabriel Rodríguez Rivas\n",
        "## Alumna: Lluvia A. Saenz S."
      ],
      "metadata": {
        "id": "2917YOB-sw4d"
      }
    },
    {
      "cell_type": "markdown",
      "source": [
        "La distribución de **Poisson** se utiliza cuando estamos interesados en el número de eventos que ocurren en un intervalo fijo de tiempo o espacio. Los eventos ocurren de manera independiente y a una tasa constante.\n",
        "\n",
        "En cambio la dsitribucion **binomial** se utiliza cuando estamos interesados en el número de éxitos en un número fijo de ensayos independientes.\n",
        "Cada ensayo tiene dos posibles resultados: éxito o fracaso.\n"
      ],
      "metadata": {
        "id": "t_se2YqKtw2q"
      }
    },
    {
      "cell_type": "code",
      "execution_count": 18,
      "metadata": {
        "id": "i-Zkei8STGJR"
      },
      "outputs": [],
      "source": [
        "from scipy.stats import poisson\n",
        "from scipy.stats import binom"
      ]
    },
    {
      "cell_type": "markdown",
      "source": [
        "---\n",
        "**EJERCIRCIO 1**\n",
        "---\n"
      ],
      "metadata": {
        "id": "yIFEQ_QuuAV1"
      }
    },
    {
      "cell_type": "markdown",
      "source": [
        "El número x de personas ingresadas a una unidad de cuidados intensivos en un hospital particular, en un día, tiene una distribución de **probabilidad de Poisson** con media igual a cinco personas por día.\n",
        "\n",
        "• a) ¿Cuál es la probabilidad de que el número de personas ingresadas a una unidad de cuidados intensivos en un hospital particular, en un día particular, sea dos?\n",
        "\n",
        "• b) ¿Es probable que x exceda de 10? Explicar"
      ],
      "metadata": {
        "id": "VjzBpZkZxXob"
      }
    },
    {
      "cell_type": "code",
      "source": [
        "# media personas por dia\n",
        "x = 5\n",
        "# Probabilidad de que el número de personas ingresadas sea 2\n",
        "k = 2\n",
        "probab_kx_2 = poisson.pmf(k,x)\n",
        "print(\"Probabilidad de que el número de personas ingresadas sea 2:\", probab_kx_2)\n"
      ],
      "metadata": {
        "colab": {
          "base_uri": "https://localhost:8080/"
        },
        "id": "cUGW-rLDdm0S",
        "outputId": "d0378623-ff7c-4990-d433-0e95407c0552"
      },
      "execution_count": 14,
      "outputs": [
        {
          "output_type": "stream",
          "name": "stdout",
          "text": [
            "Probabilidad de que el número de personas ingresadas sea 2: 0.08422433748856832\n"
          ]
        }
      ]
    },
    {
      "cell_type": "code",
      "source": [
        "probab_mayor_10 = 1 - poisson.cdf(10, x)\n",
        "print(\"Probabilidad de que el número de personas ingresadas exceda de 10:\", probab_mayor_10)"
      ],
      "metadata": {
        "colab": {
          "base_uri": "https://localhost:8080/"
        },
        "id": "95vCZCbYqGBE",
        "outputId": "2cb8214c-849e-4d29-dd02-d443bb16851a"
      },
      "execution_count": 15,
      "outputs": [
        {
          "output_type": "stream",
          "name": "stdout",
          "text": [
            "Probabilidad de que el número de personas ingresadas exceda de 10: 0.013695268598382881\n"
          ]
        }
      ]
    },
    {
      "cell_type": "markdown",
      "source": [
        "a) La probabilidad de que exactamente dos personas ingresen en un día es aproximadamente 0.0842, lo cual es extremadamente baja.\n",
        "\n",
        "b) La probabilidad de que el número de personas ingresadas exceda de 10 es aproximadamente 0.0134, es bastante improbable que más de 10 personas ingresen en un solo día."
      ],
      "metadata": {
        "id": "-xbFr2xfxmP1"
      }
    },
    {
      "cell_type": "markdown",
      "source": [
        "---\n",
        "**EJERCIRCIO 2**\n",
        "---"
      ],
      "metadata": {
        "id": "5KETxfkeuPeW"
      }
    },
    {
      "cell_type": "markdown",
      "source": [
        " Un fabricante de podadoras para el pasto compra motores de 1 hp y 2 ciclos, en lotes de 1,000, a un proveedor.\n",
        "\n",
        "El fabricate equipa cada una de las podadoras producidas por su planta con uno de los motores.\n",
        "\n",
        "La historia muestra que la probabilidad de que cualquier motor del proveedor resulte no satisfactorio es .001.\n",
        "\n",
        "En un embarque de 1,000 motores, Calcular\n",
        "\n",
        "• ¿cuál es la probabilidad de que ninguno sea defectuoso?\n",
        "\n",
        "• ¿cuál es la probabilidad de que tres sean defectuosos?\n",
        "\n",
        "• ¿cuál es la probabilidad de que cuatro sean defectuoso?\n"
      ],
      "metadata": {
        "id": "2pwkOcokxdQL"
      }
    },
    {
      "cell_type": "markdown",
      "source": [
        "`El fabricante de podadoras compra motores en lotes de 1,000, y la probabilidad de que cualquier motor resulte no satisfactorio (defectuoso) es 0.001. cada motor puede tener dos resultados posibles (defectuoso o no defectuoso), y hay un número fijo de ensayos (1,000). Por lo tanto, este es un problema de distribución binomial.`"
      ],
      "metadata": {
        "id": "fuQC7CRGyZeh"
      }
    },
    {
      "cell_type": "code",
      "source": [
        "prob_fail = 0.001\n",
        "lotes = 1000\n",
        "\n",
        "# Probabilidad de 0 defectuosos\n",
        "x_0=0\n",
        "probab_x_0 = binom.pmf(x_0, lotes, prob_fail)\n",
        "print(\"Probabilidad de que ninguno sea defectuoso:\", probab_x_0)\n",
        "# Probabilidad de 3 defectuosos\n",
        "x_3=3\n",
        "probab_x_3 = binom.pmf(x_3, lotes, prob_fail)\n",
        "print(\"Probabilidad de que ninguno sea defectuoso:\", probab_x_3)\n",
        "# Probabilidad de 4 defectuosos\n",
        "x_4=4\n",
        "probab_x_4 = binom.pmf(x_4, lotes, prob_fail)\n",
        "print(\"Probabilidad de que ninguno sea defectuoso:\", probab_x_4)\n"
      ],
      "metadata": {
        "colab": {
          "base_uri": "https://localhost:8080/"
        },
        "id": "57mj3lsSuJpV",
        "outputId": "b37f9e58-ef2c-4de1-e477-5e1cde04f6ba"
      },
      "execution_count": 24,
      "outputs": [
        {
          "output_type": "stream",
          "name": "stdout",
          "text": [
            "Probabilidad de que ninguno sea defectuoso: 0.3676954247709639\n",
            "Probabilidad de que ninguno sea defectuoso: 0.061282509389840666\n",
            "Probabilidad de que ninguno sea defectuoso: 0.015289955420838651\n"
          ]
        }
      ]
    },
    {
      "cell_type": "markdown",
      "source": [
        "36.76% de que niguno sea defectuoso\n",
        "\n",
        "6.12% de 3 sean defectuoso\n",
        "\n",
        "1.52% de 4 sean defectuoso"
      ],
      "metadata": {
        "id": "ceDEkJ8C00jZ"
      }
    }
  ]
}