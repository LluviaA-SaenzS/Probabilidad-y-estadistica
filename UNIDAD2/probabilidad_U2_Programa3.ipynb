{
  "nbformat": 4,
  "nbformat_minor": 0,
  "metadata": {
    "colab": {
      "provenance": []
    },
    "kernelspec": {
      "name": "python3",
      "display_name": "Python 3"
    },
    "language_info": {
      "name": "python"
    }
  },
  "cells": [
    {
      "cell_type": "markdown",
      "source": [
        "\n",
        "# Probabilidad y Estadística | Unidad II\n",
        "## Facilitador: José Gabriel Rodríguez Rivas\n",
        "## Alumna: Lluvia A. Saenz S.\n",
        "\n",
        "\"Programa3\""
      ],
      "metadata": {
        "id": "-QGKFZJlNHtF"
      }
    },
    {
      "cell_type": "code",
      "execution_count": 1,
      "metadata": {
        "id": "WOQKJoN6Hsmn"
      },
      "outputs": [],
      "source": [
        "import math as mt #Para utilziar factorial\n",
        "from itertools import permutations\n",
        "from itertools import product\n",
        "\n",
        "import numpy as np"
      ]
    },
    {
      "cell_type": "code",
      "source": [
        "n= 10 #Asistentes de profesor\n",
        "k= 4 #Tamaño subconjunto\n",
        "\n",
        "Pr=mt.factorial(n) / (mt.factorial(n-k))\n",
        "\n",
        "print(\"Existen\", Pr, \"posibles permutaciones sin repetición del total de los\", n, \"asistentes\", \" en grupos de \", k, \"en\", k)"
      ],
      "metadata": {
        "colab": {
          "base_uri": "https://localhost:8080/"
        },
        "id": "IO5wIs-VITJA",
        "outputId": "7a414157-f1b0-4792-f903-6181c75c78a8"
      },
      "execution_count": 4,
      "outputs": [
        {
          "output_type": "stream",
          "name": "stdout",
          "text": [
            "Existen 5040.0 posibles permutaciones sin repetición del total de los 10 asistentes  en grupos de  4 en 4\n"
          ]
        }
      ]
    }
  ]
}